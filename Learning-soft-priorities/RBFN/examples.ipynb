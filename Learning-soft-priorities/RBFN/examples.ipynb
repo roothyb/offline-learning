{
 "cells": [
  {
   "cell_type": "markdown",
   "metadata": {},
   "source": [
    "# RBF-Network interpolation examples"
   ]
  },
  {
   "cell_type": "code",
   "execution_count": 6,
   "metadata": {
    "scrolled": false
   },
   "outputs": [
    {
     "name": "stdout",
     "output_type": "stream",
     "text": [
      "[[0.61213223 0.60959215 0.64447328]]\n",
      "[[1. 1. 1. 1. 1. 1.]\n",
      " [1. 1. 1. 1. 1. 1.]\n",
      " [1. 1. 1. 1. 1. 1.]]\n"
     ]
    },
    {
     "ename": "ValueError",
     "evalue": "operands could not be broadcast together with shapes (3,6) (1,3) ",
     "output_type": "error",
     "traceback": [
      "\u001b[0;31m---------------------------------------------------------------------------\u001b[0m",
      "\u001b[0;31mValueError\u001b[0m                                Traceback (most recent call last)",
      "\u001b[0;32m<ipython-input-6-6ea92aad92a4>\u001b[0m in \u001b[0;36m<module>\u001b[0;34m()\u001b[0m\n\u001b[1;32m     76\u001b[0m     \u001b[0mprint\u001b[0m\u001b[0;34m(\u001b[0m\u001b[0mpriorities\u001b[0m\u001b[0;34m)\u001b[0m\u001b[0;34m\u001b[0m\u001b[0m\n\u001b[1;32m     77\u001b[0m     \u001b[0mprint\u001b[0m\u001b[0;34m(\u001b[0m\u001b[0ma\u001b[0m\u001b[0;34m)\u001b[0m\u001b[0;34m\u001b[0m\u001b[0m\n\u001b[0;32m---> 78\u001b[0;31m     \u001b[0mprint\u001b[0m\u001b[0;34m(\u001b[0m\u001b[0mdot\u001b[0m\u001b[0;34m(\u001b[0m\u001b[0ma\u001b[0m\u001b[0;34m*\u001b[0m\u001b[0mpriorities\u001b[0m\u001b[0;34m)\u001b[0m\u001b[0;34m)\u001b[0m\u001b[0;34m\u001b[0m\u001b[0m\n\u001b[0m\u001b[1;32m     79\u001b[0m \u001b[0;34m\u001b[0m\u001b[0m\n\u001b[1;32m     80\u001b[0m     \u001b[0;31m# print(W)\u001b[0m\u001b[0;34m\u001b[0m\u001b[0;34m\u001b[0m\u001b[0m\n",
      "\u001b[0;31mValueError\u001b[0m: operands could not be broadcast together with shapes (3,6) (1,3) "
     ]
    }
   ],
   "source": [
    "from scipy import *\n",
    "from scipy.linalg import norm, pinv\n",
    "from matplotlib import pyplot as plt\n",
    "import numpy as np\n",
    "\n",
    "class RBFN:\n",
    "     \n",
    "    def __init__(self, indim, numCenters, outdim, time):\n",
    "        self.indim = indim\n",
    "        self.outdim = outdim\n",
    "        self.numCenters = numCenters\n",
    "        #not sure if it is right\n",
    "        self.centers = np.linspace(0, time, numCenters)\n",
    "        # self.centers = [random.uniform(-1, 1, indim) for i in range(numCenters)]\n",
    "        self.beta = 8\n",
    "        self.W = random.random((self.numCenters, self.outdim))\n",
    "         \n",
    "    def _basisfunc(self, c, d):\n",
    "        return exp(-self.beta * norm(c-d)**2)\n",
    "     \n",
    "    def _calcAct(self, X):\n",
    "        # calculate activations of RBFs\n",
    "        G = zeros((X.shape[0], self.numCenters), float)\n",
    "        for ci, c in enumerate(self.centers):\n",
    "            for xi, x in enumerate(X):\n",
    "                G[xi,ci] = self._basisfunc(c, x)\n",
    "        return G\n",
    "    \n",
    "    \"\"\"def train(self, X, Y):         \n",
    "        # choose random center vectors from training set\n",
    "        rnd_idx = random.permutation(X.shape[0])[:self.numCenters]\n",
    "        self.centers = [X[i,:] for i in rnd_idx]\n",
    "        # print (\"center\", self.centers)\n",
    "        # calculate activations of RBFs\n",
    "        G = self._calcAct(X)\n",
    "        # print (G)\n",
    "        # calculate output weights (pseudoinverse)\n",
    "        self.W = dot(pinv(G), Y)\"\"\"\n",
    "    \n",
    "    def test(self, X):\n",
    "        \"\"\" X: matrix of dimensions n x indim \"\"\"\n",
    "        G = self._calcAct(X)\n",
    "        Y = dot(G, self.W)\n",
    "        return Y\n",
    "    \n",
    "    def setHyperParams(self, W):\n",
    "        assert W.shape[0] == self.numCenters\n",
    "        assert W.shape[1] == self.outdim\n",
    "        self.W = W\n",
    "        \n",
    "    def _sigmoid(self, x):\n",
    "        return 1 / (1 + np.exp(-x))\n",
    "\n",
    "    def calOutput(self, X):\n",
    "        \"\"\" X: 1 x indim \"\"\"\n",
    "        #calculate activation value\n",
    "        G = self._calcAct(X)\n",
    "        #sum up and normalize\n",
    "        Y = dot(G, self.W)/sum(G)\n",
    "        Y = self._sigmoid(Y)\n",
    "        return Y\n",
    " \n",
    "      \n",
    "if __name__ == '__main__':\n",
    "    \n",
    "    time = 10\n",
    "    rbfn = RBFN(1, 10, 3, time)\n",
    "    W = random.random((rbfn.numCenters, rbfn.outdim))\n",
    "    rbfn.setHyperParams(W)\n",
    "    \n",
    "    point = np.array([5])\n",
    "    priorities = rbfn.calOutput(point)\n",
    "    a = ones((1,6))\n",
    "    a = np.concatenate((a, ones((1,6))))\n",
    "    a = np.concatenate((a, ones((1,6))))\n",
    "    print(priorities)\n",
    "    print(a)\n",
    "    print(dot(a*priorities))\n",
    "    \n",
    "    # print(W)\n",
    "    '''x = np.arange(0, time, 0.005)\n",
    "    y = zeros((0,3))\n",
    "    for point in x:\n",
    "        point = np.array([point])\n",
    "        y = np.concatenate((y, rbfn.calOutput(point)))\n",
    "\n",
    "    plt.figure(figsize=(12, 8))\n",
    "    # print(y.shape)\n",
    "    y = np.transpose([y])\n",
    "    # print(y.shape)\n",
    "    plt.plot(x, y[1], 'k-')'''\n",
    "    "
   ]
  },
  {
   "cell_type": "markdown",
   "metadata": {},
   "source": [
    "## 1D interpolation example"
   ]
  },
  {
   "cell_type": "code",
   "execution_count": 195,
   "metadata": {
    "scrolled": true
   },
   "outputs": [
    {
     "name": "stdout",
     "output_type": "stream",
     "text": [
      "[1. 1. 1.]\n",
      "3.0\n",
      "[0.33333333 0.33333333 0.33333333]\n"
     ]
    },
    {
     "data": {
      "text/plain": [
       "array([10.,  1.])"
      ]
     },
     "execution_count": 195,
     "metadata": {},
     "output_type": "execute_result"
    }
   ],
   "source": [
    "from scipy import *\n",
    "from scipy.linalg import norm, pinv\n",
    "a=ones(3)\n",
    "print(a)\n",
    "print(sum(a))\n",
    "print(a/sum(a))\n",
    "a = random.random((4,3))\n",
    "a\n",
    "len(a)\n",
    "a.shape[0]\n",
    "a.shape[1]\n",
    "y = ones(0)\n",
    "y = np.append(arr=y, values=10)\n",
    "y = np.append(arr=y, values=1)\n",
    "\n",
    "len(y)\n",
    "y"
   ]
  },
  {
   "cell_type": "markdown",
   "metadata": {},
   "source": [
    "## 2D interpolation example"
   ]
  },
  {
   "cell_type": "code",
   "execution_count": 162,
   "metadata": {
    "scrolled": true
   },
   "outputs": [
    {
     "name": "stdout",
     "output_type": "stream",
     "text": [
      "[-10.          -7.77777778  -5.55555556  -3.33333333  -1.11111111\n",
      "   1.11111111   3.33333333   5.55555556   7.77777778  10.        ]\n",
      "[4.53978687e-05 4.18766684e-04 3.85103236e-03 3.44451957e-02\n",
      " 2.47663801e-01 7.52336199e-01 9.65554804e-01 9.96148968e-01\n",
      " 9.99581233e-01 9.99954602e-01]\n"
     ]
    },
    {
     "data": {
      "text/plain": [
       "array([[0.10786521, 0.00533426, 0.61402899],\n",
       "       [0.33199609, 0.48030543, 0.99112918],\n",
       "       [0.94250576, 0.70151296, 0.1836751 ],\n",
       "       [0.91782393, 0.54015141, 0.1907095 ]])"
      ]
     },
     "execution_count": 162,
     "metadata": {},
     "output_type": "execute_result"
    },
    {
     "data": {
      "image/png": "[encoded data removed]",
      "text/plain": [
       "<Figure size 432x288 with 1 Axes>"
      ]
     },
     "metadata": {
      "needs_background": "light"
     },
     "output_type": "display_data"
    }
   ],
   "source": [
    "import numpy as np\n",
    "from matplotlib import pyplot as plt\n",
    "def sigmoid(x):\n",
    "    return 1 / (1 + np.exp(-x))\n",
    "\n",
    "\n",
    "x = np.linspace(-10, 10, 10)\n",
    "print(x)\n",
    "Y = sigmoid(x)\n",
    "print(Y)\n",
    "plt.plot(x, Y, 'g-')\n",
    "a"
   ]
  },
  {
   "cell_type": "code",
   "execution_count": null,
   "metadata": {},
   "outputs": [],
   "source": []
  }
 ],
 "metadata": {
  "kernelspec": {
   "display_name": "Python 3",
   "language": "python",
   "name": "python3"
  },
  "language_info": {
   "codemirror_mode": {
    "name": "ipython",
    "version": 3
   },
   "file_extension": ".py",
   "mimetype": "text/x-python",
   "name": "python",
   "nbconvert_exporter": "python",
   "pygments_lexer": "ipython3",
   "version": "3.7.0"
  }
 },
 "nbformat": 4,
 "nbformat_minor": 2
}
